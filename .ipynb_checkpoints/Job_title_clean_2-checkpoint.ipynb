{
 "cells": [
  {
   "cell_type": "code",
   "execution_count": 32,
   "metadata": {
    "collapsed": true
   },
   "outputs": [],
   "source": [
    "import pandas as pd\n",
    "import numpy as np\n",
    "from fuzzywuzzy import fuzz\n",
    "from fuzzywuzzy import process\n",
    "import enchant \n",
    "import nltk\n",
    "from nltk.corpus import words\n",
    "import re\n",
    "import html\n",
    "dict_en = enchant.Dict(\"en_US\")"
   ]
  },
  {
   "cell_type": "code",
   "execution_count": 15,
   "metadata": {
    "collapsed": false
   },
   "outputs": [],
   "source": [
    "job_titles = pd.read_csv(\"job_title_need_clean_2.csv\")"
   ]
  },
  {
   "cell_type": "markdown",
   "metadata": {},
   "source": [
    "# Lower case and remove unicode job title"
   ]
  },
  {
   "cell_type": "code",
   "execution_count": 39,
   "metadata": {
    "collapsed": false
   },
   "outputs": [],
   "source": [
    "job_titles['lower_case'] = ''\n",
    "job_titles['remove_unicode'] = ''\n",
    "for index, row in job_titles.iterrows():\n",
    "    job_title_lower_case = str.lower(row['c_employment_title'])\n",
    "    job_title_remove_unicode = html.unescape(job_title_lower_case)\n",
    "    \n",
    "    job_titles.set_value(index, 'lower_case', job_title_lower_case)\n",
    "    job_titles.set_value(index, 'remove_unicode', job_title_remove_unicode)"
   ]
  },
  {
   "cell_type": "code",
   "execution_count": 42,
   "metadata": {
    "collapsed": false
   },
   "outputs": [],
   "source": [
    "job_titles.to_csv(\"job_title_lower_case_and_remove_unicode.csv\")"
   ]
  }
 ],
 "metadata": {
  "kernelspec": {
   "display_name": "Python 3",
   "language": "python",
   "name": "python3"
  },
  "language_info": {
   "codemirror_mode": {
    "name": "ipython",
    "version": 3
   },
   "file_extension": ".py",
   "mimetype": "text/x-python",
   "name": "python",
   "nbconvert_exporter": "python",
   "pygments_lexer": "ipython3",
   "version": "3.5.2"
  }
 },
 "nbformat": 4,
 "nbformat_minor": 2
}
