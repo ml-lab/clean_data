{
 "cells": [
  {
   "cell_type": "code",
   "execution_count": 35,
   "metadata": {
    "collapsed": false,
    "deletable": true,
    "editable": true
   },
   "outputs": [],
   "source": [
    "import gls_preprocess_standard_update_v1 as pp\n",
    "import pandas as pd\n",
    "import datetime as dt\n",
    "import time\n",
    "import datetime"
   ]
  },
  {
   "cell_type": "code",
   "execution_count": 37,
   "metadata": {
    "collapsed": false,
    "deletable": true,
    "editable": true
   },
   "outputs": [],
   "source": [
    "df = pd.read_csv(\"final.csv\")"
   ]
  },
  {
   "cell_type": "code",
   "execution_count": 38,
   "metadata": {
    "collapsed": false
   },
   "outputs": [
    {
     "data": {
      "text/html": [
       "<div>\n",
       "<table border=\"1\" class=\"dataframe\">\n",
       "  <thead>\n",
       "    <tr style=\"text-align: right;\">\n",
       "      <th></th>\n",
       "      <th>date</th>\n",
       "      <th>date_modify_1</th>\n",
       "      <th>date_modify_2</th>\n",
       "    </tr>\n",
       "  </thead>\n",
       "  <tbody>\n",
       "    <tr>\n",
       "      <th>118</th>\n",
       "      <td>Product Marketing for Android platform and Ne...</td>\n",
       "      <td>wrong_date</td>\n",
       "      <td></td>\n",
       "    </tr>\n",
       "    <tr>\n",
       "      <th>309</th>\n",
       "      <td>developed and delivered computer and sales/se...</td>\n",
       "      <td>wrong_date</td>\n",
       "      <td></td>\n",
       "    </tr>\n",
       "    <tr>\n",
       "      <th>643</th>\n",
       "      <td>troubleshoot application and system performance</td>\n",
       "      <td>wrong_date</td>\n",
       "      <td></td>\n",
       "    </tr>\n",
       "    <tr>\n",
       "      <th>1604</th>\n",
       "      <td>NaN</td>\n",
       "      <td>wrong_date</td>\n",
       "      <td></td>\n",
       "    </tr>\n",
       "  </tbody>\n",
       "</table>\n",
       "</div>"
      ],
      "text/plain": [
       "                                                   date date_modify_1  \\\n",
       "118    Product Marketing for Android platform and Ne...    wrong_date   \n",
       "309    developed and delivered computer and sales/se...    wrong_date   \n",
       "643     troubleshoot application and system performance    wrong_date   \n",
       "1604                                                NaN    wrong_date   \n",
       "\n",
       "     date_modify_2  \n",
       "118                 \n",
       "309                 \n",
       "643                 \n",
       "1604                "
      ]
     },
     "execution_count": 38,
     "metadata": {},
     "output_type": "execute_result"
    }
   ],
   "source": [
    "x = pp.gls_preprocess(df.c_employment_job_start, None,None,None,None,None,None)\n",
    "result = x.gls_date()\n",
    "result[result.date_modify_1 == 'wrong_date']"
   ]
  },
  {
   "cell_type": "code",
   "execution_count": 39,
   "metadata": {
    "collapsed": false,
    "deletable": true,
    "editable": true
   },
   "outputs": [
    {
     "data": {
      "text/html": [
       "<div>\n",
       "<table border=\"1\" class=\"dataframe\">\n",
       "  <thead>\n",
       "    <tr style=\"text-align: right;\">\n",
       "      <th></th>\n",
       "      <th>date</th>\n",
       "      <th>date_modify_1</th>\n",
       "      <th>date_modify_2</th>\n",
       "    </tr>\n",
       "  </thead>\n",
       "  <tbody>\n",
       "    <tr>\n",
       "      <th>309</th>\n",
       "      <td>managed process for employees seeking externa...</td>\n",
       "      <td>wrong_date</td>\n",
       "      <td></td>\n",
       "    </tr>\n",
       "    <tr>\n",
       "      <th>643</th>\n",
       "      <td>trained academic personal on web services.</td>\n",
       "      <td>wrong_date</td>\n",
       "      <td></td>\n",
       "    </tr>\n",
       "    <tr>\n",
       "      <th>1604</th>\n",
       "      <td>NaN</td>\n",
       "      <td>wrong_date</td>\n",
       "      <td></td>\n",
       "    </tr>\n",
       "  </tbody>\n",
       "</table>\n",
       "</div>"
      ],
      "text/plain": [
       "                                                   date date_modify_1  \\\n",
       "309    managed process for employees seeking externa...    wrong_date   \n",
       "643          trained academic personal on web services.    wrong_date   \n",
       "1604                                                NaN    wrong_date   \n",
       "\n",
       "     date_modify_2  \n",
       "309                 \n",
       "643                 \n",
       "1604                "
      ]
     },
     "execution_count": 39,
     "metadata": {},
     "output_type": "execute_result"
    }
   ],
   "source": [
    "x = pp.gls_preprocess(df.c_employment_job_end, None,None,None,None,None,None)\n",
    "result = x.gls_date()\n",
    "result[result.date_modify_1 == 'wrong_date']"
   ]
  },
  {
   "cell_type": "code",
   "execution_count": 41,
   "metadata": {
    "collapsed": false
   },
   "outputs": [
    {
     "name": "stdout",
     "output_type": "stream",
     "text": [
      "1613\n"
     ]
    }
   ],
   "source": [
    "print(len(result))"
   ]
  }
 ],
 "metadata": {
  "kernelspec": {
   "display_name": "Python 3",
   "language": "python",
   "name": "python3"
  },
  "language_info": {
   "codemirror_mode": {
    "name": "ipython",
    "version": 3
   },
   "file_extension": ".py",
   "mimetype": "text/x-python",
   "name": "python",
   "nbconvert_exporter": "python",
   "pygments_lexer": "ipython3",
   "version": "3.5.2"
  }
 },
 "nbformat": 4,
 "nbformat_minor": 2
}
