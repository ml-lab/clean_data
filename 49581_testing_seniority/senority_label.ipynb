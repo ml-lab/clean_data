{
 "cells": [
  {
   "cell_type": "code",
   "execution_count": 2,
   "metadata": {
    "collapsed": true
   },
   "outputs": [],
   "source": [
    "import pandas as pd\n",
    "from preprocess import *\n",
    "from datetime import datetime\n",
    "from dateutil.relativedelta import relativedelta\n",
    "import numpy\n",
    "from IPython.display import Image"
   ]
  },
  {
   "cell_type": "code",
   "execution_count": 3,
   "metadata": {
    "collapsed": false
   },
   "outputs": [],
   "source": [
    "data=pd.read_csv('c_employment.csv')\n",
    "\n",
    "data['c_employment_job_end']=data['c_employment_job_end'].apply(lambda t: datetime.now().strftime(\"%Y-%m-%d\") if t=='present' else t )\n",
    "\n",
    "data['c_employment_job_end'] = data['c_employment_job_end'].map(clean_datetime)\n",
    "data['c_employment_job_start'] = data['c_employment_job_start'].map(clean_datetime)\n",
    "\n",
    "data['c_employment_working']=data['c_employment_job_end']-data['c_employment_job_start']\n",
    "\n",
    "data['c_employment_working']=data['c_employment_working'].apply(lambda t: numpy.ceil(float(t.days)/365))\n",
    "\n",
    "\n"
   ]
  },
  {
   "cell_type": "markdown",
   "metadata": {},
   "source": [
    "<img src=\"untitled.png\">"
   ]
  },
  {
   "cell_type": "code",
   "execution_count": 4,
   "metadata": {
    "collapsed": true
   },
   "outputs": [],
   "source": [
    "#define some keywords to determine the label\n",
    "\n",
    "production=['production','product','intern']\n",
    "business_support=['business','support','supporter','supervisor']\n",
    "professional_expert=['professional','expert','specialist','master']\n",
    "management=['management','manager']\n",
    "executive=['executive','president','chief','director']\n"
   ]
  },
  {
   "cell_type": "code",
   "execution_count": 5,
   "metadata": {
    "collapsed": false
   },
   "outputs": [],
   "source": [
    "data['l_production']=data['c_employment_title'].apply(lambda t: 1 if (any(x.upper() in t.upper() for x in production)) else 0)\n",
    "data['l_business']=data['c_employment_title'].apply(lambda t: 1 if (any(x.upper() in t.upper() for x in business_support)) else 0)\n",
    "data['l_expert']=data['c_employment_title'].apply(lambda t: 1 if (any(x.upper() in t.upper() for x in professional_expert)) else 0)\n",
    "data['l_manager']=data['c_employment_title'].apply(lambda t: 1 if (any(x.upper() in t.upper() for x in management)) else 0)\n",
    "data['l_executive']=data['c_employment_title'].apply(lambda t: 1 if (any(x.upper() in t.upper() for x in executive)) else 0)\n",
    "\n",
    "df = data[['c_employment_title','c_employment_working','l_production','l_business','l_expert','l_manager','l_executive']]\n"
   ]
  },
  {
   "cell_type": "code",
   "execution_count": 6,
   "metadata": {
    "collapsed": false
   },
   "outputs": [
    {
     "name": "stderr",
     "output_type": "stream",
     "text": [
      "C:\\Users\\TranBinh\\Anaconda2\\lib\\site-packages\\ipykernel\\__main__.py:17: SettingWithCopyWarning: \n",
      "A value is trying to be set on a copy of a slice from a DataFrame.\n",
      "Try using .loc[row_indexer,col_indexer] = value instead\n",
      "\n",
      "See the caveats in the documentation: http://pandas.pydata.org/pandas-docs/stable/indexing.html#indexing-view-versus-copy\n"
     ]
    }
   ],
   "source": [
    "label=[]\n",
    "index=0\n",
    "for title in df['c_employment_title']:\n",
    "    result='Unspecified'\n",
    "    if df['l_production'][index]!=0:\n",
    "        result='Production'\n",
    "    if df['l_business'][index]!=0:\n",
    "        result='Business Support'\n",
    "    if df['l_expert'][index]!=0:\n",
    "        result='Professional Expert'\n",
    "    if df['l_manager'][index]!=0:\n",
    "        result='Management'\n",
    "    if df['l_executive'][index]!=0:\n",
    "        result='Executive'\n",
    "    label.append(result)\n",
    "    index=index+1\n",
    "df['label']=label"
   ]
  },
  {
   "cell_type": "code",
   "execution_count": 7,
   "metadata": {
    "collapsed": false
   },
   "outputs": [],
   "source": [
    "#define some working experience\n",
    "\n",
    "production_l=[1,2,3] # less than 1  year=> entry, 1<x<2: intermediate, 2<x<3: senior\n",
    "business_l=[1,2,3,5]\n",
    "professional_l=[1,2,3,5,10]\n",
    "manager_l=[1,2,3,5,10]\n",
    "executive_l=[1,2,3]\n"
   ]
  },
  {
   "cell_type": "code",
   "execution_count": 8,
   "metadata": {
    "collapsed": false
   },
   "outputs": [],
   "source": [
    "def sub_label(data):\n",
    "    s_label=[]\n",
    "    for i in range(0, len(data)):\n",
    "        sub_label=''\n",
    "        \n",
    "        if (data['label'][i]=='Production'):\n",
    "            if data['c_employment_working'][i]<=production_l[0]:\n",
    "                sub_label='Entry'\n",
    "            elif data['c_employment_working'][i]<=production_l[1]:\n",
    "                sub_label='Intermediate'\n",
    "            elif data['c_employment_working'][i]<=production_l[2]:\n",
    "                sub_label='Senior'\n",
    "            else: sub_label='Lead'\n",
    "        \n",
    "        if (data['label'][i]=='Business Support'):\n",
    "            if data['c_employment_working'][i]<=business_l[0]:\n",
    "                sub_label='Entry'\n",
    "            elif data['c_employment_working'][i]<=business_l[1]:\n",
    "                sub_label='Intermediate'\n",
    "            elif data['c_employment_working'][i]<=business_l[2]:\n",
    "                sub_label='Senior'\n",
    "            elif data['c_employment_working'][i]<=business_l[3]:\n",
    "                sub_label='Lead'\n",
    "            else: sub_label='Supervisor'\n",
    "        \n",
    "        if (data['label'][i]=='Professional Expert'):\n",
    "            if data['c_employment_working'][i]<=professional_l[0]:\n",
    "                sub_label='Entry'\n",
    "            elif data['c_employment_working'][i]<=professional_l[1]:\n",
    "                sub_label='Intermediate'\n",
    "            elif data['c_employment_working'][i]<=professional_l[2]:\n",
    "                sub_label='Career'\n",
    "            elif data['c_employment_working'][i]<=professional_l[3]:\n",
    "                sub_label='Specialist'\n",
    "            elif data['c_employment_working'][i]<=professional_l[4]:\n",
    "                sub_label='Master'\n",
    "            else: sub_label='Expert'\n",
    "            \n",
    "        if (data['label'][i]=='Management'):\n",
    "            if data['c_employment_working'][i]<=manager_l[0]:\n",
    "                sub_label='Supervisor'\n",
    "            elif data['c_employment_working'][i]<=manager_l[1]:\n",
    "                sub_label='Manager'\n",
    "            elif data['c_employment_working'][i]<=manager_l[2]:\n",
    "                sub_label='Senior Manager'\n",
    "            elif data['c_employment_working'][i]<=manager_l[3]:\n",
    "                sub_label='Group Manager'\n",
    "            else: sub_label='Senior Group Manager'\n",
    "    \n",
    "        if (data['label'][i]=='Executive'):\n",
    "            if data['c_employment_working'][i]<=executive_l[0]:\n",
    "                sub_label='Vice President'\n",
    "            elif data['c_employment_working'][i]<=executive_l[1]:\n",
    "                sub_label='Senior Vice President'\n",
    "            elif data['c_employment_working'][i]<=executive_l[2]:\n",
    "                sub_label='Executive Vice President'\n",
    "            else: sub_label='Chief Executive Officer'\n",
    "            \n",
    "        \n",
    "        s_label.append(sub_label)\n",
    "    return s_label\n",
    "        "
   ]
  },
  {
   "cell_type": "code",
   "execution_count": 9,
   "metadata": {
    "collapsed": false
   },
   "outputs": [
    {
     "name": "stderr",
     "output_type": "stream",
     "text": [
      "C:\\Users\\TranBinh\\Anaconda2\\lib\\site-packages\\ipykernel\\__main__.py:1: SettingWithCopyWarning: \n",
      "A value is trying to be set on a copy of a slice from a DataFrame.\n",
      "Try using .loc[row_indexer,col_indexer] = value instead\n",
      "\n",
      "See the caveats in the documentation: http://pandas.pydata.org/pandas-docs/stable/indexing.html#indexing-view-versus-copy\n",
      "  if __name__ == '__main__':\n"
     ]
    }
   ],
   "source": [
    "df['sub_label']=sub_label(df)\n",
    "\n",
    "df.to_csv('output.csv',sep=',')"
   ]
  }
 ],
 "metadata": {
  "anaconda-cloud": {},
  "kernelspec": {
   "display_name": "Python [conda root]",
   "language": "python",
   "name": "conda-root-py"
  },
  "language_info": {
   "codemirror_mode": {
    "name": "ipython",
    "version": 2
   },
   "file_extension": ".py",
   "mimetype": "text/x-python",
   "name": "python",
   "nbconvert_exporter": "python",
   "pygments_lexer": "ipython2",
   "version": "2.7.12"
  }
 },
 "nbformat": 4,
 "nbformat_minor": 2
}
